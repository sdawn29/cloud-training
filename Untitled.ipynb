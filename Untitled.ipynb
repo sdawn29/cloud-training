{
 "cells": [
  {
   "cell_type": "code",
   "execution_count": 1,
   "metadata": {},
   "outputs": [
    {
     "name": "stdout",
     "output_type": "stream",
     "text": [
      "No of failed login attempt: 6\n",
      "sshd version:  OpenSSH_6.8\n",
      "Encryption:  SHA256\n",
      "Succesful Login User:  fred\n",
      "ip:  192.0.2.60\n",
      "port:  6647\n"
     ]
    }
   ],
   "source": [
    "F = open(r'C:\\Users\\lab365\\Desktop\\Python Training\\log\\SSH_log_Sample.txt')\n",
    "data = F.readlines()\n",
    "failedAttemptCount = 0\n",
    "# ips = re.findall('\\d{3}\\.\\d{3}\\.\\d{3}\\.\\d{3}', data)\n",
    "for i in data:\n",
    "    if 'Failed password' in i:\n",
    "        failedAttemptCount += 1\n",
    "    if 'sshd version' in i:\n",
    "        w = i.split()\n",
    "        vrindex = w.index('version')\n",
    "        ver = w[vrindex + 1].strip(',')\n",
    "\n",
    "    if 'ssh-rsa' in i:\n",
    "        keysplit = i.split()\n",
    "        key = keysplit[keysplit.index('ssh-rsa')+1]\n",
    "        key = key.split(':')\n",
    "        keyver = key[0]\n",
    "    \n",
    "    if 'Accepted password' in i:\n",
    "        nw = i.split()\n",
    "        userind = nw.index('for')\n",
    "        acceptedUser = nw[userind+1]\n",
    "\n",
    "        ipind = nw.index('from')\n",
    "        acceptedIp = nw[ipind+1]\n",
    "\n",
    "        portind = nw.index('port')\n",
    "        acceptedport = nw[portind+1]\n",
    "\n",
    "print('No of failed login attempt:', failedAttemptCount)\n",
    "print('sshd version: ', ver)       \n",
    "print('Encryption: ', keyver)       \n",
    "print('Succesful Login User: ', acceptedUser)       \n",
    "print('ip: ', acceptedIp)       \n",
    "print('port: ', acceptedport)             "
   ]
  },
  {
   "cell_type": "code",
   "execution_count": null,
   "metadata": {},
   "outputs": [],
   "source": []
  }
 ],
 "metadata": {
  "kernelspec": {
   "display_name": "Python 3",
   "language": "python",
   "name": "python3"
  },
  "language_info": {
   "codemirror_mode": {
    "name": "ipython",
    "version": 3
   },
   "file_extension": ".py",
   "mimetype": "text/x-python",
   "name": "python",
   "nbconvert_exporter": "python",
   "pygments_lexer": "ipython3",
   "version": "3.7.4"
  }
 },
 "nbformat": 4,
 "nbformat_minor": 2
}
